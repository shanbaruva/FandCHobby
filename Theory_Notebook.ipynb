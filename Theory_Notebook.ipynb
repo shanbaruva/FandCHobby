{
  "cells": [
    {
      "cell_type": "markdown",
      "id": "4fc26f88",
      "metadata": {
        "id": "4fc26f88"
      },
      "source": [
        "## Instructions for Google Colab"
      ]
    },
    {
      "cell_type": "markdown",
      "id": "dc82f3c0",
      "metadata": {
        "id": "dc82f3c0"
      },
      "source": [
        "To use this notebook in Google Colab, please make a copy of it to your own Google Drive. This ensures you have a personal copy and do not directly edit the original. Here's how:\n",
        "1. Open the notebook in Google Colab.\n",
        "2. Go to 'File' > 'Save a copy in Drive'.\n",
        "3. Edit your copy of the notebook."
      ]
    },
    {
      "cell_type": "markdown",
      "id": "2e3ef072",
      "metadata": {
        "id": "2e3ef072"
      },
      "source": [
        "# Introduction to Programming and Python for Data Analysis"
      ]
    },
    {
      "cell_type": "markdown",
      "id": "fcea2872",
      "metadata": {
        "id": "fcea2872"
      },
      "source": [
        "## What is Programming?"
      ]
    },
    {
      "cell_type": "markdown",
      "id": "7b96f1aa",
      "metadata": {
        "id": "7b96f1aa"
      },
      "source": [
        "**Programming**, often referred to as **coding**, is the process of designing and building an executable computer program to accomplish a specific computing task. Programming involves tasks such as analysis, generating algorithms, profiling algorithms' accuracy and resource consumption, and the implementation of algorithms in a chosen programming language (commonly referred to as coding).\n",
        "\n",
        "**Key Aspects of Programming:**\n",
        "\n",
        "> *Problem-Solving and Logical Thinking:* At its core, programming is about solving problems. It requires a structured approach to identify challenges, devise solutions, and then express these solutions in a logical, systematic way.\n",
        "\n",
        "> *Writing Source Code:* This involves using a programming language to write instructions that a computer can understand and execute. These instructions are written in 'source code'. The language chosen depends on the task, the platform on which the code will run, and the programmer's familiarity with the language.\n",
        "\n",
        "> *Algorithms and Data Structures:* An algorithm is a step-by-step procedure to achieve a particular task. Understanding algorithms and the data structures that support them is a fundamental part of programming. Data structures help in organizing and storing data in a digital space.\n",
        "\n",
        "> *Debugging and Testing:* Writing code often comes with errors or 'bugs'. Debugging is the process of finding and fixing these errors. Testing involves running the program to ensure it performs as expected and to identify any errors in logic or performance issues.\n",
        "\n",
        "> *Maintenance and Iteration:* Programming isn't just about writing code once; it also involves maintaining, updating, and improving the code over time, based on new requirements or changes in technology.\n",
        "\n",
        "> *Creativity and Innovation:* While programming is a technical skill, it also involves a significant amount of creativity. It’s about finding new ways to solve problems, improving existing solutions, and innovating with technology.\n",
        "\n",
        "**Types of Programming:**\n",
        "1. *Application Programming:* Creating applications for desktops, smartphones, and web platforms.\n",
        "2. *System Programming:* Writing software to manage and control computer hardware.\n",
        "3. *Embedded Programming:* Developing software for non-computer devices, like cars, robots, and home appliances.\n",
        "4. *Game Development:* Building interactive games, which involves graphics programming, sound programming, physics programming, and AI programming.\n",
        "5. *Data Science and Analysis:* Writing programs to analyze and visualize data, often used in research, forecasting, and making data-driven decisions.\n",
        "\n",
        "Programming is a continuously evolving field, with new languages, tools, and methodologies developing all the time. It requires a commitment to lifelong learning to keep up with the latest technologies and practices."
      ]
    },
    {
      "cell_type": "markdown",
      "id": "569c58c0",
      "metadata": {
        "id": "569c58c0"
      },
      "source": [
        "## Introduction to Python as a Programming Language"
      ]
    },
    {
      "cell_type": "markdown",
      "id": "fedabbb4",
      "metadata": {
        "id": "fedabbb4"
      },
      "source": [
        "Python is a high-level, interpreted programming language known for its ease of learning and flexibility. It has become extremely popular in various fields, including data analysis, web development, and machine learning.\n",
        "\n",
        "**Key features:**\n",
        "1. *Easy to Learn and Use:* Python's syntax is clear and intuitive, making it an excellent language for beginners. Its syntax is often described as almost like writing in English, which reduces the learning curve for new programmers.\n",
        "\n",
        "2. *Interpreted Language:* Unlike compiled languages, Python code is executed line by line, making debugging easier and more efficient.\n",
        "\n",
        "3. *High-Level Language:* Python abstracts many details of the computer's operating system, allowing programmers to focus more on programming logic rather than system specifics.\n",
        "\n",
        "4. *Extensive Standard Library:* Python comes with a large standard library that includes modules for various tasks, from web development to data analysis, reducing the need for external libraries.\n",
        "\n",
        "5. *Dynamic Typing:* Python is dynamically typed, meaning that the type of a variable is checked during runtime, which provides flexibility in coding.\n",
        "\n",
        "6. *Portability:* Python code can run on various platforms, including Windows, macOS, Linux, and Unix, with little to no modification.\n",
        "\n",
        "**Python's popularity** can be attributed to its versatility, ease of learning, and the expansive community support. It consistently ranks as one of the most popular programming languages worldwide, appealing to both beginners and experienced developers."
      ]
    },
    {
      "cell_type": "markdown",
      "id": "ce8e30cc",
      "metadata": {
        "id": "ce8e30cc"
      },
      "source": [
        "## Why Learn Python for Data Analysis?"
      ]
    },
    {
      "cell_type": "markdown",
      "id": "50ac7eed",
      "metadata": {
        "id": "50ac7eed"
      },
      "source": [
        "Python has gained immense popularity in the field of data analysis for several reasons:\n",
        "\n",
        "> *Powerful Data Analysis Libraries:* Libraries like Pandas, NumPy, and SciPy offer robust tools for data manipulation, statistical analysis, and scientific computing.\n",
        "\n",
        "> *Data Visualization:* Libraries such as Matplotlib and Seaborn make data visualization intuitive and effective, enabling the creation of informative and interactive plots and graphs.\n",
        "\n",
        "> *Machine Learning and AI:* Python's ecosystem includes libraries like scikit-learn, TensorFlow, and PyTorch, making it a preferred language for machine learning and artificial intelligence projects.\n",
        "\n",
        "> *Community and Support:* Python has a large, active community, providing extensive resources, tutorials, and forums for beginners and experts alike. This community support makes it easier to learn and solve programming problems.\n",
        "\n",
        "> *Versatility:* Beyond data analysis, Python is also used in web development, automation, scientific modeling, and more, making it a versatile skill for many technology careers.\n"
      ]
    },
    {
      "cell_type": "markdown",
      "id": "89987bf6",
      "metadata": {
        "id": "89987bf6"
      },
      "source": [
        "## Understanding Python Syntax and Best Practices"
      ]
    },
    {
      "cell_type": "markdown",
      "id": "faa64c91",
      "metadata": {
        "id": "faa64c91"
      },
      "source": [
        "### Comments vs Code"
      ]
    },
    {
      "cell_type": "markdown",
      "id": "80efe2fb",
      "metadata": {
        "id": "80efe2fb"
      },
      "source": [
        "```python\n",
        "# This is a comment\n",
        "print('This is code')\n",
        "```"
      ]
    },
    {
      "cell_type": "code",
      "source": [
        "#This is a comment"
      ],
      "metadata": {
        "id": "WDOPwZAyzein"
      },
      "id": "WDOPwZAyzein",
      "execution_count": null,
      "outputs": []
    },
    {
      "cell_type": "code",
      "source": [
        "print('This is the code')"
      ],
      "metadata": {
        "colab": {
          "base_uri": "https://localhost:8080/"
        },
        "id": "psCICifCz1zt",
        "outputId": "cc4a6755-f90d-4b52-9a54-c3f0da43d778"
      },
      "id": "psCICifCz1zt",
      "execution_count": null,
      "outputs": [
        {
          "output_type": "stream",
          "name": "stdout",
          "text": [
            "This is the code\n"
          ]
        }
      ]
    },
    {
      "cell_type": "markdown",
      "id": "f23f9cbd",
      "metadata": {
        "id": "f23f9cbd"
      },
      "source": [
        "### Python Scripts vs Jupyter Notebooks"
      ]
    },
    {
      "cell_type": "markdown",
      "id": "bb16793c",
      "metadata": {
        "id": "bb16793c"
      },
      "source": [
        "Python scripts are text files containing Python code, usually with a `.py` extension. Jupyter Notebooks, on the other hand, are interactive documents that can contain both code and rich text elements, like paragraphs, equations, and visualizations."
      ]
    },
    {
      "cell_type": "markdown",
      "id": "c5b3d98a",
      "metadata": {
        "id": "c5b3d98a"
      },
      "source": [
        "## Features of Jupyter Notebooks"
      ]
    },
    {
      "cell_type": "markdown",
      "id": "173f1d9b",
      "metadata": {
        "id": "173f1d9b"
      },
      "source": [
        "- Interactive coding environment\n",
        "- Mixing code and documentation\n",
        "- Inline visualization"
      ]
    },
    {
      "cell_type": "markdown",
      "id": "5a7a5106",
      "metadata": {
        "id": "5a7a5106"
      },
      "source": [
        "## Variables and Data Types"
      ]
    },
    {
      "cell_type": "markdown",
      "id": "af953481",
      "metadata": {
        "id": "af953481"
      },
      "source": [
        "### Integers, Floats, Strings, Booleans"
      ]
    },
    {
      "cell_type": "code",
      "execution_count": null,
      "id": "ca92e5e8",
      "metadata": {
        "id": "ca92e5e8"
      },
      "outputs": [],
      "source": [
        "integer_example = 10\n",
        "float_example = 10.5\n",
        "string_example = 'Hello, Python'\n",
        "boolean_example = True\n",
        "\n",
        "print(integer_example, float_example, string_example, boolean_example)"
      ]
    },
    {
      "cell_type": "markdown",
      "source": [
        "**Discussion:**\n",
        "\n",
        "What do you expect to be the result of the following code?\n",
        "\n",
        "```result = 3 + 'apple'```"
      ],
      "metadata": {
        "id": "GRiPQh0pyqb_"
      },
      "id": "GRiPQh0pyqb_"
    },
    {
      "cell_type": "markdown",
      "source": [
        "## Understanding Errors in Python\n",
        "\n",
        "In Python, errors are problems in a program that prevent the program from running as expected. They are critical for programmers to understand, as they highlight issues that need to be resolved. There are several types of errors, but here we focus on errors related to data type operations.\n",
        "\n",
        "### Common Error Types:\n",
        "\n",
        "1. **Syntax Error:** Occurs when Python cannot understand the code because of incorrect syntax.\n",
        "2. **Runtime Error:** Happens during program execution, e.g., trying to perform an operation on incompatible data types.\n",
        "3. **Semantic Error:** The code runs without crashing, but the result is not what you expect.\n",
        "\n",
        "Understanding and resolving errors is a key part of programming and debugging."
      ],
      "metadata": {
        "id": "F9RfsnhBySd5"
      },
      "id": "F9RfsnhBySd5"
    },
    {
      "cell_type": "code",
      "source": [
        "# Examples of Errors and Fixes Due to Data Type Operations\n",
        "\n",
        "# Original error: Adding an integer and a string - Results in TypeError\n",
        "# Fix: Convert the integer to a string before concatenation\n",
        "result_fixed = str(3) + ' apples'\n",
        "print(\"Fixed:\", result_fixed)  # Output: '3 apples'"
      ],
      "metadata": {
        "id": "gw1tBBOYyhDs",
        "colab": {
          "base_uri": "https://localhost:8080/"
        },
        "outputId": "8cccf95f-987d-40e4-8967-c558764dce8b"
      },
      "id": "gw1tBBOYyhDs",
      "execution_count": null,
      "outputs": [
        {
          "output_type": "stream",
          "name": "stdout",
          "text": [
            "Fixed: 3 apples\n"
          ]
        }
      ]
    },
    {
      "cell_type": "code",
      "source": [
        "# Original error: Dividing a number by a string - Results in TypeError\n",
        "# Fix: Ensure both operands are numbers (e.g., convert the string to a number if possible)\n",
        "result_fixed = 10 / 5  # Assuming 'five' was meant to be 5\n",
        "print(\"Fixed:\", result_fixed)  # Output: 2.0"
      ],
      "metadata": {
        "id": "tHb8tgd3yjCN",
        "colab": {
          "base_uri": "https://localhost:8080/"
        },
        "outputId": "e56fa087-287b-4baa-eb1c-86a47afb0761"
      },
      "id": "tHb8tgd3yjCN",
      "execution_count": null,
      "outputs": [
        {
          "output_type": "stream",
          "name": "stdout",
          "text": [
            "Fixed: 2.0\n"
          ]
        }
      ]
    },
    {
      "cell_type": "code",
      "source": [
        "# Original error: Using an undefined variable - Results in NameError\n",
        "# Fix: Define the variable before using it\n",
        "number = 7  # Define 'number'\n",
        "result_fixed = number * 2\n",
        "print(\"Fixed:\", result_fixed)  # Output: 14"
      ],
      "metadata": {
        "id": "ehXSZn6JykLT",
        "colab": {
          "base_uri": "https://localhost:8080/"
        },
        "outputId": "b783dee5-459c-480b-ebc2-0932f8083176"
      },
      "id": "ehXSZn6JykLT",
      "execution_count": null,
      "outputs": [
        {
          "output_type": "stream",
          "name": "stdout",
          "text": [
            "Fixed: 14\n"
          ]
        }
      ]
    },
    {
      "cell_type": "code",
      "source": [
        "result = 10/5\n",
        "print(result)"
      ],
      "metadata": {
        "colab": {
          "base_uri": "https://localhost:8080/"
        },
        "id": "QU2a5tJF6L27",
        "outputId": "014532c9-30cd-485f-d054-607ed3abc13e"
      },
      "id": "QU2a5tJF6L27",
      "execution_count": null,
      "outputs": [
        {
          "output_type": "stream",
          "name": "stdout",
          "text": [
            "2.0\n"
          ]
        }
      ]
    },
    {
      "cell_type": "markdown",
      "id": "ccd6a647",
      "metadata": {
        "id": "ccd6a647"
      },
      "source": [
        "## String Methods and Beginner Friendly Materials"
      ]
    },
    {
      "cell_type": "code",
      "execution_count": null,
      "id": "39edb645",
      "metadata": {
        "id": "39edb645",
        "colab": {
          "base_uri": "https://localhost:8080/"
        },
        "outputId": "a63942aa-041c-42c4-eaa9-5a464d99e732"
      },
      "outputs": [
        {
          "output_type": "stream",
          "name": "stdout",
          "text": [
            "13\n",
            "DATA ANALYSIS\n",
            "True\n"
          ]
        }
      ],
      "source": [
        "sample_string = 'Data Analysis'\n",
        "\n",
        "# String length\n",
        "print(len(sample_string))\n",
        "\n",
        "# Convert to uppercase\n",
        "print(sample_string.upper())\n",
        "\n",
        "# Check if string contains a word\n",
        "print('Data' in sample_string)"
      ]
    },
    {
      "cell_type": "markdown",
      "source": [
        "String Slicing in Python\n",
        "String slicing in Python is a powerful way to extract parts of strings (substrings) based on their indices. Python strings are 'immutable', meaning they cannot be changed after they are created. However, you can create new strings through slicing.\n",
        "\n",
        "Basics of String Slicing:\n",
        "In Python, string indices start at 0 for the first character. String slicing uses square brackets [] with indices to extract parts of the string.\n",
        "\n",
        "The slicing syntax is: string[start:stop:step]\n",
        "\n",
        "start: The starting index of the slice. It defaults to 0.\n",
        "stop: The ending index where the slice will stop. The slice will contain characters up to but not including this index. If omitted, slicing goes to the end of the string.\n",
        "step: Specifies the step size of the slicing. Defaults to 1."
      ],
      "metadata": {
        "id": "3I_TrfKtvElm"
      },
      "id": "3I_TrfKtvElm"
    },
    {
      "cell_type": "code",
      "source": [
        "'''BASIC SLICING'''\n",
        "\n",
        "text = \"Python Programming\"\n",
        "sliced = text[0:6]\n",
        "print(sliced)  # Output: Python"
      ],
      "metadata": {
        "id": "srNcngwxvHDH",
        "colab": {
          "base_uri": "https://localhost:8080/"
        },
        "outputId": "2e5da9fc-1a87-4f57-bc06-2804fdfed680"
      },
      "id": "srNcngwxvHDH",
      "execution_count": null,
      "outputs": [
        {
          "output_type": "stream",
          "name": "stdout",
          "text": [
            "Python\n"
          ]
        }
      ]
    },
    {
      "cell_type": "code",
      "source": [
        "'''OMMITING START AND STOP'''\n",
        "\n",
        "text = \"Python Programming\"\n",
        "print(text[:6])  # Output: Python\n",
        "print(text[7:])  # Output: Programming"
      ],
      "metadata": {
        "id": "W54lKFilvLp6",
        "colab": {
          "base_uri": "https://localhost:8080/"
        },
        "outputId": "2cc216cc-0efb-4e83-87d0-39ee06ad6019"
      },
      "id": "W54lKFilvLp6",
      "execution_count": null,
      "outputs": [
        {
          "output_type": "stream",
          "name": "stdout",
          "text": [
            "Python\n",
            "Programming\n"
          ]
        }
      ]
    },
    {
      "cell_type": "code",
      "source": [
        "'''NEGATIVE SLICING'''\n",
        "\n",
        "text = \"Python Programming\"\n",
        "print(text[-12:-7])  # Output: Progr"
      ],
      "metadata": {
        "id": "wE92pnZvvLnx",
        "colab": {
          "base_uri": "https://localhost:8080/"
        },
        "outputId": "6d9ae259-124d-458f-a718-6ab2e3ebe764"
      },
      "id": "wE92pnZvvLnx",
      "execution_count": null,
      "outputs": [
        {
          "output_type": "stream",
          "name": "stdout",
          "text": [
            " Prog\n"
          ]
        }
      ]
    },
    {
      "cell_type": "code",
      "source": [
        "'''USING STEP'''\n",
        "#The step value can be used to skip characters in the sliced string.\n",
        "\n",
        "text = \"Python Programming\"\n",
        "print(text[0:6:2])  # Output: Pto"
      ],
      "metadata": {
        "id": "WeiVuAVdvX2q",
        "colab": {
          "base_uri": "https://localhost:8080/"
        },
        "outputId": "95905633-9555-4aae-98a3-2011b2ebf74a"
      },
      "id": "WeiVuAVdvX2q",
      "execution_count": null,
      "outputs": [
        {
          "output_type": "stream",
          "name": "stdout",
          "text": [
            "Pto\n"
          ]
        }
      ]
    },
    {
      "cell_type": "code",
      "source": [
        "'''REVERSE STRING'''\n",
        "#A common use of slicing is to reverse a string.\n",
        "\n",
        "text = \"Python\"\n",
        "print(text[::-1])  # Output: nohtyP"
      ],
      "metadata": {
        "id": "cFYMWuwHviZp",
        "colab": {
          "base_uri": "https://localhost:8080/"
        },
        "outputId": "9f2c1728-898c-499c-915f-f14e63d5d92a"
      },
      "id": "cFYMWuwHviZp",
      "execution_count": null,
      "outputs": [
        {
          "output_type": "stream",
          "name": "stdout",
          "text": [
            "nohtyP\n"
          ]
        }
      ]
    },
    {
      "cell_type": "markdown",
      "source": [
        "**Practice Exercise:**\n",
        "\n",
        "Try slicing the string \"Data Analysis with Python\" to extract different substrings:\n",
        "\n",
        "1. Extract \"Analysis\".\n",
        "2. Get every second character of the string.\n",
        "3. Reverse the entire string."
      ],
      "metadata": {
        "id": "MV7gULCGvvIS"
      },
      "id": "MV7gULCGvvIS"
    },
    {
      "cell_type": "markdown",
      "source": [
        "**Why learn all these? **\n",
        "\n",
        "1. Data Cleaning and Preprocessing\n",
        "In data analysis, raw data often comes in various formats and may contain inconsistencies. String slicing is vital for cleaning and preprocessing this data. For instance, you might need to extract specific information from a larger string, such as dates, identifiers, or codes, or you might need to trim unwanted characters from the data.\n",
        "\n",
        "2. Text Data Manipulation\n",
        "Many data analysis tasks involve working with text data. String slicing allows you to manipulate and transform this data efficiently. For example, you might need to parse file names, URLs, or other structured string data to extract meaningful parts for analysis.\n",
        "\n",
        "There are many more case studies where general programming, such as our string manipulation, can be used in data analysis and will become evident the more we progress."
      ],
      "metadata": {
        "id": "UrsURpTFwByM"
      },
      "id": "UrsURpTFwByM"
    }
  ],
  "metadata": {
    "colab": {
      "provenance": []
    },
    "language_info": {
      "name": "python"
    },
    "kernelspec": {
      "name": "python3",
      "display_name": "Python 3"
    }
  },
  "nbformat": 4,
  "nbformat_minor": 5
}