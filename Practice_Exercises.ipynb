{
  "nbformat": 4,
  "nbformat_minor": 0,
  "metadata": {
    "colab": {
      "provenance": [],
      "include_colab_link": true
    },
    "kernelspec": {
      "name": "python3",
      "display_name": "Python 3"
    },
    "language_info": {
      "name": "python"
    }
  },
  "cells": [
    {
      "cell_type": "markdown",
      "metadata": {
        "id": "view-in-github",
        "colab_type": "text"
      },
      "source": [
        "<a href=\"https://colab.research.google.com/github/shanbaruva/FandCHobby/blob/main/Practice_Exercises.ipynb\" target=\"_parent\"><img src=\"https://colab.research.google.com/assets/colab-badge.svg\" alt=\"Open In Colab\"/></a>"
      ]
    },
    {
      "cell_type": "markdown",
      "source": [
        "**!! NOTE:** Instructions for Google Colab\n",
        "\n",
        "To use this notebook in Google Colab, please make a copy of it to your own Google Drive. This ensures you have a personal copy and do not directly edit the original. Here's how:\n",
        "1. Open the notebook in Google Colab.\n",
        "2. Go to 'File' > 'Save a copy in Drive'.\n",
        "3. Edit your copy of the notebook."
      ],
      "metadata": {
        "id": "XceXeceRFPvj"
      }
    },
    {
      "cell_type": "markdown",
      "source": [
        "### **Exercise 1:** Text Correction Exercise"
      ],
      "metadata": {
        "id": "pvKjB8LdFZVY"
      }
    },
    {
      "cell_type": "markdown",
      "source": [
        "\n",
        "**Objective:** Correct mistakes in a given text using string slicing and concatenation.\n",
        "\n",
        "**Scenario:** You are provided with a paragraph that contains several errors. Your task is to identify and correct these errors using Python's string manipulation techniques."
      ],
      "metadata": {
        "id": "GAc-YDRBFYEz"
      }
    },
    {
      "cell_type": "code",
      "source": [
        "### GIVEN TEXT\n",
        "\n",
        "given_text = '''Pythno is an interpeted, high-levle, genreal-purpose programimng language.\n",
        "Creatde by Gudio van Rssum and frist released in 1991, Python's dsign philosophy\n",
        "emphasizes code readbility with its use of significant whitsepace.'''\n",
        "\n",
        "corrected_text = given_text[0:4] + 'on' + given_text[6:19] + 'r' + given_text[19:33] + 'el'\n",
        "\n",
        "print(corrected_text)"
      ],
      "metadata": {
        "id": "CY4A-eaNFfq_",
        "colab": {
          "base_uri": "https://localhost:8080/"
        },
        "outputId": "e31cda11-d3d3-48f2-db8b-85a8150019bc"
      },
      "execution_count": 3,
      "outputs": [
        {
          "output_type": "stream",
          "name": "stdout",
          "text": [
            "Python is an interpreted, high-level\n"
          ]
        }
      ]
    },
    {
      "cell_type": "markdown",
      "source": [
        "**Task:** Identify and correct spelling errors.\n",
        "Ensure the first letter of each sentence is capitalized.\n",
        "\n",
        "**Hints:**\n",
        "- Use slicing to extract parts of the string that are correct.\n",
        "- Concatenate corrected parts with the rest of the text.\n",
        "- Use str.capitalize() or str.upper() for capitalizing.\n",
        "\n",
        "*Expected Outcome:* A corrected, readable paragraph."
      ],
      "metadata": {
        "id": "eHpBmaycFpfQ"
      }
    },
    {
      "cell_type": "markdown",
      "source": [
        "---"
      ],
      "metadata": {
        "id": "mrLcmDImGH_C"
      }
    },
    {
      "cell_type": "markdown",
      "source": [
        "### **Exercise 2:** Data Type Creation and Manipulation Exercise"
      ],
      "metadata": {
        "id": "rSfZSpGUGJJA"
      }
    },
    {
      "cell_type": "markdown",
      "source": [
        "**Objective:** Understand and practice basic data type creation and manipulation.\n",
        "\n",
        "**Scenario:** Perform a series of tasks that require you to create and manipulate different data types without using control structures.\n",
        "\n",
        "**Tasks:**\n",
        "1. Create a string variable with your favorite fruit's name and print its length.\n",
        "2. Create two integer variables representing the current year and your birth year. Calculate and print your age.\n",
        "3. Create a float variable representing the average temperature today and print it formatted to two decimal places.\n",
        "\n",
        "**Hints:**\n",
        "1. Use the len() function to find the length of a string.\n",
        "2. Subtract the birth year from the current year to find the age.\n",
        "3. Use the round() function or string formatting to format the float.\n",
        "\n",
        "**Expected Outcome:** Understanding of basic data types in Python and their simple manipulations."
      ],
      "metadata": {
        "id": "m3Vh6jeWGdHm"
      }
    }
  ]
}